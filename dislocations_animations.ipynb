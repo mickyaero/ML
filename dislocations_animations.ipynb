{
 "cells": [
  {
   "cell_type": "code",
   "execution_count": 1,
   "metadata": {
    "collapsed": false
   },
   "outputs": [
    {
     "name": "stdout",
     "output_type": "stream",
     "text": [
      "[14.  6. 17. 11.  5. 48. 46. 14. 36. 22.] [ 0. 22. 17.  4. 14.  9. 47. 21. 17. 11.]\n"
     ]
    }
   ],
   "source": [
    "%matplotlib inline\n",
    "\n",
    "import matplotlib.pyplot as plt\n",
    "import numpy as np\n",
    "\n",
    "from matplotlib import animation, rc\n",
    "from IPython.display import HTML\n",
    "#PRINTING THE DISLOCATION POSITIONS\n",
    "def print_dis():\n",
    "    print(x_dis, y_dis)\n",
    "    \n",
    "\n",
    "#CAUTION, SOME FORMULAE GIVEN IN THE THESIS NEED TO BE RECHECKED - STRESS FIELD AND THE VELOCITY PROFILE\n",
    "#GRID GENERATION\n",
    "\n",
    "#Grid size in terms of Burger's vector, Burger's vector = 1unit in the x-direction\n",
    "#The grid is a sqaure\n",
    "grid_size = 50\n",
    "\n",
    "#Finding out the grid coordinates\n",
    "x_coord = np.linspace(0, grid_size - 1, grid_size)\n",
    "y_coord = x_coord\n",
    "#print(y_coord)\n",
    "\n",
    "#GENERATING THE DISLOCATIONS\n",
    "\n",
    "#Number of disclocations = num_dis\n",
    "num_dis = 10\n",
    "\n",
    "#Dislocations identity = (x, y ,s); where s can be +1 or -1 DEFINED GLOBALLY. THE COORDINATES OF THE DISLOCATIONS ARE UPDATED \n",
    "#GLOBALLY\n",
    "s = [1, -1]\n",
    "x_dis = np.random.choice(x_coord, num_dis)\n",
    "y_dis = np.random.choice(y_coord, num_dis)\n",
    "s_dis = np.random.choice(s, num_dis)\n",
    "print_dis()\n",
    "\n",
    "#PLOTTING FUNCTION\n",
    "def plot_dis():\n",
    "    #Plotting the dislocations\n",
    "    plt.axis([0, grid_size - 1, 0, grid_size - 1])\n",
    "    plt.xlabel('x(b)')\n",
    "    plt.ylabel('y(b)')\n",
    "    plt.title('Dislocations In The Box')\n",
    "    plt.grid(True)\n",
    "\n",
    "    for i in range(len(s_dis)):\n",
    "        if s_dis[i] == 1:\n",
    "            plt.plot(x_dis[i], y_dis[i], 'r^')\n",
    "        \n",
    "        else:\n",
    "            plt.plot(x_dis[i], y_dis[i], 'bv')\n",
    "    plt.show()\n",
    "\n",
    "\n",
    "\n",
    "#ANNIHILATION FUNCTION\n",
    "#The dislocations will be annihilated if the distance between them is strictly less than the length of the burger's vector\n",
    "\n",
    "def annihilate(b):\n",
    "    e = []\n",
    "    global x_dis\n",
    "    global y_dis\n",
    "    global s_dis\n",
    "    a = len(x_dis)\n",
    "    for i in range(a):\n",
    "        for j in range(i+1, a):\n",
    "            dis = ((x_dis[i] - x_dis[j]) ** 2 + (y_dis[i] - y_dis[j]) ** 2) ** 0.5\n",
    "            if dis < b:\n",
    "                e.append(j)\n",
    "                e.append(i)\n",
    "                \n",
    "    e = set(e)\n",
    "    e = sorted(e, reverse = True)\n",
    "    \n",
    "    for i in e:\n",
    "        x_dis = np.delete(x_dis, i)\n",
    "        y_dis = np.delete(y_dis, i)\n",
    "        s_dis = np.delete(s_dis, i)\n",
    "        \n",
    "    return               "
   ]
  },
  {
   "cell_type": "code",
   "execution_count": 2,
   "metadata": {
    "collapsed": false
   },
   "outputs": [],
   "source": [
    "#STRESS FIELD AT A PARTICULAR POINT\n",
    "\n",
    "\n",
    "#The function evaluates the stress field at a point in the box. It takes the position of the dislocation(xd, yd) whose stress at a \n",
    "#point(x, y) has to be calculated. Burger's vector is kept as 1. Stress is measured in terms of meu/(2*pi*(1-v)). \n",
    "#Time is measured in terms of 2*pi*(1-neu)/(meu * mobi * burgers)\n",
    "def stress_field(x_d, y_d, x, y):\n",
    "    stress = np.pi/grid_size * np.sin(2 * np.pi * (x - x_d)/grid_size) * (np.cosh(2 * np.pi * (y - y_d)/grid_size) - np.cos(2 * np.pi * (x - x_d)/grid_size) - \n",
    "                                                           (2 * np.pi * (y - y_d)/grid_size) * np.sinh(2 * np.pi * (y - y_d)/grid_size))/((np.cosh(2 * np.pi * (y - y_d)/grid_size) - np.cos(2 * np.pi * (x - x_d)/grid_size)) ** 2)\n",
    "    \n",
    "    return stress\n",
    "    \n",
    "#CALCULATING THE "
   ]
  },
  {
   "cell_type": "code",
   "execution_count": 3,
   "metadata": {
    "collapsed": false
   },
   "outputs": [],
   "source": [
    "#CALCULATING THE VELOCITY OF EACH DISLOCATION\n",
    "\n",
    "#No climbing, just gliding =====> y is constant\n",
    "\n",
    "#The following function calculates the (total sum stress + sigma_ext) * s * b^2 at dislocation(x, y), z = s_dis(x,y)\n",
    "def sum_stress(x, y, s, x_dummy, stress_external):\n",
    "    sum_inter = 0 \n",
    "    for i in range(len(x_dummy)):\n",
    "        if x == x_dummy[i] and y == y_dis[i]:\n",
    "            continue\n",
    "        else:\n",
    "            sum_inter = sum_inter + stress_field(x_dummy[i], y_dis[i], x, y) * s_dis[i]\n",
    "    sum_inter = sum_inter + stress_external\n",
    "    #Burgers vector value is 1\n",
    "    return(s * sum_inter)\n",
    "\n",
    "#NEW LOCATION OF THE DISLOCATION\n",
    "\n",
    "#Units of timestep are 2 * pi * (1 - neu)/(meu * mobi * Burger). Timestep thus I am taking is 1000\n",
    "\n",
    "def new_location(step, stress_ext):\n",
    "    x_int = np.copy(x_dis)\n",
    "    x_dummy = np.copy(x_dis)\n",
    "    itr = len(x_dummy)\n",
    "    \n",
    "    k1 = np.zeros(itr)\n",
    "    k2 = np.zeros(itr)\n",
    "    k3 = np.zeros(itr)\n",
    "    k4 = np.zeros(itr)\n",
    "    \n",
    "    for i in range(itr):\n",
    "        k1[i] = sum_stress(x_dummy[i], y_dis[i], s_dis[i], x_dummy, stress_ext)\n",
    "                   \n",
    "    for i in range(itr):\n",
    "        x_dummy[i] = x_dis[i] + step/2.0 * k1[i]\n",
    "        #print(x_dis[i],x_dis[i] + step/2.0 * a[i],x_dummy[i],'{:.16f}'.format(x_dummy[i] - x_dis[i]))\n",
    "    \n",
    "    \n",
    "    for i in range(itr):\n",
    "        k2[i] = sum_stress(x_dummy[i], y_dis[i], s_dis[i], x_dummy, stress_ext)\n",
    "        \n",
    "    for i in range(itr):\n",
    "        x_dummy[i] = x_dis[i] + step/2 * k2[i]\n",
    "    \n",
    "    \n",
    "    for i in range(itr):\n",
    "        k3[i] = sum_stress(x_dummy[i], y_dis[i], s_dis[i], x_dummy, stress_ext)\n",
    "        \n",
    "    for i in range(itr):\n",
    "        x_dummy[i] = x_dis[i] + step * k3[i]\n",
    "        \n",
    "    \n",
    "    for i in range(itr):\n",
    "        k4[i] = sum_stress(x_dummy[i], y_dis[i], s_dis[i], x_dummy, stress_ext)\n",
    "    \n",
    "    for i in range(itr):\n",
    "        x_dis[i] = (x_dis[i] + step/6 * (k1[i] + 2 * k2[i] + 2 * k3[i] + k4[i]))%grid_size\n",
    "       \n",
    "    return x_int\n",
    "     \n",
    "\n",
    "#LOCATION AFTER \"t\" TIMESTEPS\n",
    "def location_after_iterations(itr, step, stress):\n",
    "    strain = np.zeros(itr)\n",
    "    \n",
    "    for j in range(itr):\n",
    "        dummy = new_location(step, stress)\n",
    "        annihilate(1)\n",
    "        g = len(s_dis)\n",
    "        for k in range(g):\n",
    "            strain[j] = (strain[j] + s_dis[k] * (x_dis[k] - dummy[k]))\n",
    "        strain[j] = strain[j]/(grid_size ** 2)\n",
    "        \n",
    "    for i in range(itr):\n",
    "        if i != 0:\n",
    "            strain[i] = strain[i] + strain[i - 1] \n",
    "            \n",
    "    return strain\n"
   ]
  },
  {
   "cell_type": "code",
   "execution_count": 4,
   "metadata": {
    "collapsed": false
   },
   "outputs": [
    {
     "data": {
      "image/png": "[encoded data removed]",
      "text/plain": [
       "<matplotlib.figure.Figure at 0x20d3c1624a8>"
      ]
     },
     "metadata": {},
     "output_type": "display_data"
    },
    {
     "data": {
      "text/plain": [
       "\"\\nfig,ax = plt.subplots()\\nax.set_xlim(( 0, grid_size))\\nax.set_ylim((0, grid_size))\\n\\nline1, = ax.plot([], [], 'bo')\\nline2, = ax.plot([], [], 'ro')\\n\\n# initialization function: plot the background of each frame\\ndef init():\\n    line1.set_data([], [])\\n    line2.set_data([], [])\\n    return line1, line2\\n\\n# animation function.  This is called sequentially\\ndef animate(i):\\n    location_after_iterations(1, 1, 1)\\n    x_pos = [[], []]\\n    y_pos = [[], []]\\n    for i in range(len(x_dis)):\\n        if(s_dis[i] == 1):\\n            x_pos[0].append(x_dis[i])        \\n            y_pos[0].append(y_dis[i])\\n        else:\\n            x_pos[1].append(x_dis[i])        \\n            y_pos[1].append(y_dis[i])\\n        \\n        line1.set_data(x_pos[0], y_pos[0])\\n        line2.set_data(x_pos[1], y_pos[1])\\n    return line1, line2\\n\\n# call the animator.  blit=True means only re-draw the parts that have changed.\\nanim = animation.FuncAnimation(fig, animate,init_func = init, frames=200, blit=True)\\nHTML(anim.to_html5_video())\\n\""
      ]
     },
     "execution_count": 4,
     "metadata": {},
     "output_type": "execute_result"
    }
   ],
   "source": [
    "strain = location_after_iterations(1500, 0.0001, 0)\n",
    "plt.plot(strain)\n",
    "plt.show()\n",
    "\"\"\"\n",
    "fig,ax = plt.subplots()\n",
    "ax.set_xlim(( 0, grid_size))\n",
    "ax.set_ylim((0, grid_size))\n",
    "\n",
    "line1, = ax.plot([], [], 'bo')\n",
    "line2, = ax.plot([], [], 'ro')\n",
    "\n",
    "# initialization function: plot the background of each frame\n",
    "def init():\n",
    "    line1.set_data([], [])\n",
    "    line2.set_data([], [])\n",
    "    return line1, line2\n",
    "\n",
    "# animation function.  This is called sequentially\n",
    "def animate(i):\n",
    "    location_after_iterations(1, 1, 1)\n",
    "    x_pos = [[], []]\n",
    "    y_pos = [[], []]\n",
    "    for i in range(len(x_dis)):\n",
    "        if(s_dis[i] == 1):\n",
    "            x_pos[0].append(x_dis[i])        \n",
    "            y_pos[0].append(y_dis[i])\n",
    "        else:\n",
    "            x_pos[1].append(x_dis[i])        \n",
    "            y_pos[1].append(y_dis[i])\n",
    "        \n",
    "        line1.set_data(x_pos[0], y_pos[0])\n",
    "        line2.set_data(x_pos[1], y_pos[1])\n",
    "    return line1, line2\n",
    "\n",
    "# call the animator.  blit=True means only re-draw the parts that have changed.\n",
    "anim = animation.FuncAnimation(fig, animate,init_func = init, frames=200, blit=True)\n",
    "HTML(anim.to_html5_video())\n",
    "\"\"\""
   ]
  },
  {
   "cell_type": "markdown",
   "metadata": {
    "collapsed": false
   },
   "source": [
    "###### print_dis()\n",
    "plot_dis()"
   ]
  },
  {
   "cell_type": "markdown",
   "metadata": {
    "collapsed": false
   },
   "source": []
  },
  {
   "cell_type": "code",
   "execution_count": 5,
   "metadata": {
    "collapsed": false
   },
   "outputs": [
    {
     "name": "stderr",
     "output_type": "stream",
     "text": [
      "C:\\Users\\Micky\\Anaconda3\\lib\\site-packages\\numpy\\ma\\core.py:6442: MaskedArrayFutureWarning: In the future the default for ma.minimum.reduce will be axis=0, not the current None, to match np.minimum.reduce. Explicitly pass 0 or None to silence this warning.\n",
      "  return self.reduce(a)\n",
      "C:\\Users\\Micky\\Anaconda3\\lib\\site-packages\\numpy\\ma\\core.py:6442: MaskedArrayFutureWarning: In the future the default for ma.maximum.reduce will be axis=0, not the current None, to match np.maximum.reduce. Explicitly pass 0 or None to silence this warning.\n",
      "  return self.reduce(a)\n"
     ]
    },
    {
     "name": "stdout",
     "output_type": "stream",
     "text": [
      "[[-0.08216109 -0.08508108 -0.08792023 ...  0.06706342  0.06426964\n",
      "   0.06159947]\n",
      " [-0.08445762 -0.08746359 -0.09038484 ...  0.06738052  0.06454837\n",
      "   0.06184465]\n",
      " [-0.08670617 -0.08979538 -0.09279548 ...  0.06752476  0.06466195\n",
      "   0.06193223]\n",
      " ...\n",
      " [-0.08601794 -0.08725719 -0.08835019 ...  0.02538915  0.02556293\n",
      "   0.02576182]\n",
      " [-0.07905693 -0.0798967  -0.08057178 ...  0.02327579  0.02354442\n",
      "   0.02383657]\n",
      " [-0.0721784  -0.07264808 -0.07293923 ...  0.02117442  0.02153307\n",
      "   0.02191365]]\n"
     ]
    },
    {
     "data": {
      "image/png": "[encoded data removed]",
      "text/plain": [
       "<matplotlib.figure.Figure at 0x20d3c13cf98>"
      ]
     },
     "metadata": {},
     "output_type": "display_data"
    }
   ],
   "source": [
    "#Contour plot\n",
    "number = 150\n",
    "xlist = np.linspace(0, grid_size/2, number)\n",
    "ylist = np.linspace(0, grid_size/2, number)\n",
    "X, Y = np.meshgrid(xlist, ylist)\n",
    "Z = (0 * X )\n",
    "for i in range(number):\n",
    "    for j in range(number):\n",
    "        for k in range(len(s_dis)):\n",
    "            Z[i][j] = Z[i][j] + stress_field(x_dis[k], y_dis[k], X[i][j], Y[i][j])\n",
    "\n",
    "plt.figure()\n",
    "cp = plt.contourf(X, Y, Z)\n",
    "plt.colorbar(cp)\n",
    "#plt.clabel(cp, inline=True, fontsize=10)\n",
    "print(Z)\n",
    "plt.title('Contour Plot')\n",
    "plt.xlabel('x')\n",
    "plt.ylabel('y')\n",
    "plt.show()"
   ]
  },
  {
   "cell_type": "code",
   "execution_count": null,
   "metadata": {
    "collapsed": false
   },
   "outputs": [],
   "source": []
  },
  {
   "cell_type": "code",
   "execution_count": null,
   "metadata": {
    "collapsed": true
   },
   "outputs": [],
   "source": []
  },
  {
   "cell_type": "code",
   "execution_count": null,
   "metadata": {
    "collapsed": false
   },
   "outputs": [],
   "source": []
  },
  {
   "cell_type": "code",
   "execution_count": null,
   "metadata": {
    "collapsed": false
   },
   "outputs": [],
   "source": []
  },
  {
   "cell_type": "code",
   "execution_count": null,
   "metadata": {
    "collapsed": true
   },
   "outputs": [],
   "source": []
  }
 ],
 "metadata": {
  "anaconda-cloud": {},
  "kernelspec": {
   "display_name": "Python [default]",
   "language": "python",
   "name": "python3"
  },
  "language_info": {
   "codemirror_mode": {
    "name": "ipython",
    "version": 3
   },
   "file_extension": ".py",
   "mimetype": "text/x-python",
   "name": "python",
   "nbconvert_exporter": "python",
   "pygments_lexer": "ipython3",
   "version": "3.5.2"
  }
 },
 "nbformat": 4,
 "nbformat_minor": 1
}
