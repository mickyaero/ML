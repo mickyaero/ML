{
 "cells": [
  {
   "cell_type": "code",
   "execution_count": 1,
   "metadata": {
    "collapsed": false
   },
   "outputs": [
    {
     "name": "stdout",
     "output_type": "stream",
     "text": [
      "[31. 82. 27. 37. 40. 46. 27. 53. 21. 85. 33. 63. 93. 39. 68. 77. 88. 61.\n",
      " 72. 10.] [ 8. 59. 98. 86. 21. 79. 29. 44.  1.  9. 11. 98. 74. 60. 44. 78. 67. 73.\n",
      "  7. 89.]\n"
     ]
    }
   ],
   "source": [
    "%matplotlib inline\n",
    "\n",
    "import matplotlib.pyplot as plt\n",
    "import numpy as np\n",
    "\n",
    "from matplotlib import animation, rc\n",
    "from IPython.display import HTML\n",
    "#PRINTING THE DISLOCATION POSITIONS\n",
    "def print_dis():\n",
    "    print(x_dis, y_dis)\n",
    "    \n",
    "\n",
    "#CAUTION, SOME FORMULAE GIVEN IN THE THESIS NEED TO BE RECHECKED - STRESS FIELD AND THE VELOCITY PROFILE\n",
    "#GRID GENERATION\n",
    "\n",
    "#Grid size in terms of Burger's vector, Burger's vector = 1unit in the x-direction\n",
    "#The grid is a sqaure\n",
    "grid_size = 100\n",
    "\n",
    "#Finding out the grid coordinates\n",
    "x_coord = np.linspace(0, grid_size - 1, grid_size)\n",
    "y_coord = x_coord\n",
    "#print(y_coord)\n",
    "\n",
    "#GENERATING THE DISLOCATIONS\n",
    "\n",
    "#Number of disclocations = num_dis\n",
    "num_dis = 20\n",
    "\n",
    "#Dislocations identity = (x, y ,s); where s can be +1 or -1 DEFINED GLOBALLY. THE COORDINATES OF THE DISLOCATIONS ARE UPDATED \n",
    "#GLOBALLY\n",
    "s = [1, -1]\n",
    "x_dis = np.random.choice(x_coord, num_dis)\n",
    "y_dis = np.random.choice(y_coord, num_dis)\n",
    "s_dis = np.random.choice(s, num_dis)\n",
    "print_dis()\n",
    "\n",
    "#PLOTTING FUNCTION\n",
    "def plot_dis():\n",
    "    #Plotting the dislocations\n",
    "    plt.axis([0, grid_size - 1, 0, grid_size - 1])\n",
    "    plt.xlabel('x(b)')\n",
    "    plt.ylabel('y(b)')\n",
    "    plt.title('Dislocations In The Box')\n",
    "    plt.grid(True)\n",
    "\n",
    "    for i in range(len(s_dis)):\n",
    "        if s_dis[i] == 1:\n",
    "            plt.plot(x_dis[i], y_dis[i], 'r^')\n",
    "        \n",
    "        else:\n",
    "            plt.plot(x_dis[i], y_dis[i], 'bv')\n",
    "    plt.show()\n",
    "\n",
    "\n",
    "\n",
    "#ANNIHILATION FUNCTION\n",
    "#The dislocations will be annihilated if the distance between them is strictly less than the length of the burger's vector\n",
    "\n",
    "def annihilate(b):\n",
    "    e = []\n",
    "    global x_dis\n",
    "    global y_dis\n",
    "    global s_dis\n",
    "    a = len(x_dis)\n",
    "    for i in range(a):\n",
    "        for j in range(i+1, a):\n",
    "            dis = ((x_dis[i] - x_dis[j]) ** 2 + (y_dis[i] - y_dis[j]) ** 2) ** 0.5\n",
    "            if dis < b:\n",
    "                e.append(j)\n",
    "                e.append(i)\n",
    "                \n",
    "    e = set(e)\n",
    "    e = sorted(e, reverse = True)\n",
    "    \n",
    "    for i in e:\n",
    "        x_dis = np.delete(x_dis, i)\n",
    "        y_dis = np.delete(y_dis, i)\n",
    "        s_dis = np.delete(s_dis, i)\n",
    "        \n",
    "    return               "
   ]
  },
  {
   "cell_type": "code",
   "execution_count": 2,
   "metadata": {
    "collapsed": false
   },
   "outputs": [],
   "source": [
    "#STRESS FIELD AT A PARTICULAR POINT\n",
    "\n",
    "\n",
    "#The function evaluates the stress field at a point in the box. It takes the position of the dislocation(xd, yd) whose stress at a \n",
    "#point(x, y) has to be calculated. Burger's vector is kept as 1. Stress is measured in terms of meu/(2*pi*(1-v)). \n",
    "#Time is measured in terms of 2*pi*(1-neu)/(meu * mobi * burgers)\n",
    "def stress_field(x_d, y_d, x, y):\n",
    "    stress = np.pi/grid_size * np.sin(2 * np.pi * (x - x_d)/grid_size) * (np.cosh(2 * np.pi * (y - y_d)/grid_size) - np.cos(2 * np.pi * (x - x_d)/grid_size) - \n",
    "                                                           (2 * np.pi * (y - y_d)/grid_size) * np.sinh(2 * np.pi * (y - y_d)/grid_size))/((np.cosh(2 * np.pi * (y - y_d)/grid_size) - np.cos(2 * np.pi * (x - x_d)/grid_size)) ** 2)\n",
    "    \n",
    "    return stress\n",
    "    \n",
    "#CALCULATING THE "
   ]
  },
  {
   "cell_type": "code",
   "execution_count": 3,
   "metadata": {
    "collapsed": false
   },
   "outputs": [],
   "source": [
    "#CALCULATING THE VELOCITY OF EACH DISLOCATION\n",
    "\n",
    "#No climbing, just gliding =====> y is constant\n",
    "\n",
    "#The following function calculates the (total sum stress + sigma_ext) * s * b^2 at dislocation(x, y), z = s_dis(x,y)\n",
    "def sum_stress(x, y, s, x_dummy, stress_external):\n",
    "    sum_inter = 0 \n",
    "    for i in range(len(x_dummy)):\n",
    "        if x == x_dummy[i] and y == y_dis[i]:\n",
    "            continue\n",
    "        else:\n",
    "            sum_inter = sum_inter + stress_field(x_dummy[i], y_dis[i], x, y) * s_dis[i]\n",
    "    sum_inter = sum_inter + stress_external\n",
    "    #Burgers vector value is 1\n",
    "    return(s * sum_inter)\n",
    "\n",
    "#NEW LOCATION OF THE DISLOCATION\n",
    "\n",
    "#Units of timestep are 2 * pi * (1 - neu)/(meu * mobi * Burger). Timestep thus I am taking is 1000\n",
    "\n",
    "def new_location(step, stress_ext):\n",
    "    x_int = np.copy(x_dis)\n",
    "    x_dummy = np.copy(x_dis)\n",
    "    itr = len(x_dummy)\n",
    "    \n",
    "    k1 = np.zeros(itr)\n",
    "    k2 = np.zeros(itr)\n",
    "    k3 = np.zeros(itr)\n",
    "    k4 = np.zeros(itr)\n",
    "    \n",
    "    for i in range(itr):\n",
    "        k1[i] = sum_stress(x_dummy[i], y_dis[i], s_dis[i], x_dummy, stress_ext)\n",
    "                   \n",
    "    for i in range(itr):\n",
    "        x_dummy[i] = x_dis[i] + step/2.0 * k1[i]\n",
    "        #print(x_dis[i],x_dis[i] + step/2.0 * a[i],x_dummy[i],'{:.16f}'.format(x_dummy[i] - x_dis[i]))\n",
    "    \n",
    "    \n",
    "    for i in range(itr):\n",
    "        k2[i] = sum_stress(x_dummy[i], y_dis[i], s_dis[i], x_dummy, stress_ext)\n",
    "        \n",
    "    for i in range(itr):\n",
    "        x_dummy[i] = x_dis[i] + step/2 * k2[i]\n",
    "    \n",
    "    \n",
    "    for i in range(itr):\n",
    "        k3[i] = sum_stress(x_dummy[i], y_dis[i], s_dis[i], x_dummy, stress_ext)\n",
    "        \n",
    "    for i in range(itr):\n",
    "        x_dummy[i] = x_dis[i] + step * k3[i]\n",
    "        \n",
    "    \n",
    "    for i in range(itr):\n",
    "        k4[i] = sum_stress(x_dummy[i], y_dis[i], s_dis[i], x_dummy, stress_ext)\n",
    "    \n",
    "    for i in range(itr):\n",
    "        x_dis[i] = (x_dis[i] + step/6 * (k1[i] + 2 * k2[i] + 2 * k3[i] + k4[i]))%grid_size\n",
    "       \n",
    "    return x_int\n",
    "     \n"
   ]
  },
  {
   "cell_type": "code",
   "execution_count": 4,
   "metadata": {
    "collapsed": false
   },
   "outputs": [],
   "source": [
    "def asrk5(eps, yscal, xn, stress_ext):\n",
    "    global h  \n",
    "    #print(h, \"1\")\n",
    "    #a constants\n",
    "    a2 = 0.2\n",
    "    a3 = 0.3\n",
    "    a4 = 0.6\n",
    "    a5 = 1\n",
    "    a6 = 0.875\n",
    "    \n",
    "    #print(h)\n",
    "    #b constants\n",
    "    b21 = 0.2 \n",
    "    b31 = 0.075\n",
    "    b32 = 0.225\n",
    "    b41 = 0.3\n",
    "    b42 = -0.9\n",
    "    b43 = 1.2\n",
    "    b51 = -11/54\n",
    "    b52 = 2.5\n",
    "    b53 = -70/27\n",
    "    b54 = 35/27\n",
    "    b61 = 1631/55296\n",
    "    b62 = 175/512\n",
    "    b63 = 575/13824\n",
    "    b64 = 44275/110592\n",
    "    b65 = 253/4096\n",
    "    \n",
    "    #c constants\n",
    "    c1 = 37/378\n",
    "    c2 = 0\n",
    "    c3 = 250/621\n",
    "    c4 = 125/594\n",
    "    c5 = 0\n",
    "    c6 = 512/1771\n",
    "    \n",
    "    #d constants\n",
    "    d1 = 2825/27648\n",
    "    d2 = 0\n",
    "    d3 = 18575/48384\n",
    "    d4 = 13525/55296\n",
    "    d5 = 277/14336\n",
    "    d6 = 0.25\n",
    "    \n",
    "    #proceeding with the starting h\n",
    "    #The function needs to be kept as a parameter for making this algorithm general\n",
    "    itr = len(xn)\n",
    "    x_int = np.copy(xn)\n",
    "    x_dummy = np.copy(xn)\n",
    "    \n",
    "    k1 = np.zeros(itr)\n",
    "    k2 = np.zeros(itr)\n",
    "    k3 = np.zeros(itr)\n",
    "    k4 = np.zeros(itr)\n",
    "    k5 = np.zeros(itr)\n",
    "    k6 = np.zeros(itr)\n",
    "    error = np.zeros(itr)\n",
    "    \n",
    "    for i in range(itr):\n",
    "        k1[i] = h * sum_stress(x_dummy[i], y_dis[i], s_dis[i], x_dummy, stress_ext)\n",
    "        \n",
    "    for i in range(itr):\n",
    "        x_dummy[i] = x_dummy[i] + b21 * k1[i]\n",
    "        \n",
    "    \n",
    "    for i in range(itr):\n",
    "        k2[i] = h * sum_stress(x_dummy[i], y_dis[i], s_dis[i], x_dummy, stress_ext)\n",
    "        \n",
    "    x_dummy = np.copy(xn)\n",
    "    for i in range(itr):\n",
    "        x_dummy[i] = x_dummy[i] + b31 * k1[i] + b32 * k2[i]\n",
    "    \n",
    "    \n",
    "    for i in range(itr):\n",
    "        k3[i] = h * sum_stress(x_dummy[i], y_dis[i], s_dis[i], x_dummy, stress_ext)\n",
    "    \n",
    "    x_dummy = np.copy(xn)\n",
    "    for i in range(itr):\n",
    "        x_dummy[i] = x_dummy[i] + b41 * k1[i] + b42 * k2[i] + b43 * k3[i]\n",
    "        \n",
    "\n",
    "    for i in range(itr):\n",
    "        k4[i] = h * sum_stress(x_dummy[i], y_dis[i], s_dis[i], x_dummy, stress_ext)\n",
    "    \n",
    "    x_dummy = np.copy(xn)\n",
    "    for i in range(itr):\n",
    "        x_dummy[i] = x_dummy[i] + b51 * k1[i] + b52 * k2[i] + b53 * k3[i] + b54 * k4[i]\n",
    "    \n",
    "    \n",
    "    for i in range(itr):\n",
    "        k5[i] = h * sum_stress(x_dummy[i], y_dis[i], s_dis[i], x_dummy, stress_ext)\n",
    "    \n",
    "    x_dummy = np.copy(xn)\n",
    "    for i in range(itr):\n",
    "        x_dummy[i] = x_dummy[i] + b61 * k1[i] + b62 * k2[i] + b63 * k3[i] + b64 * k4[i] +b65 * k5[i]\n",
    "        \n",
    "    for i in range(itr):\n",
    "        k6[i] = h * sum_stress(x_dummy[i], y_dis[i], s_dis[i], x_dummy, stress_ext)\n",
    "    \n",
    "    x_dummy = np.copy(xn)\n",
    "    for i in range(itr):\n",
    "        x_dummy[i] = x_dummy[i] + c1 * k1[i] + c2 * k2[i] + c3 * k3[i] + c4 * k4[i] + c5 * k5[i] + c6 * k6[i]\n",
    "        #Calculating the error\n",
    "        error[i] = (c1 - d1) * k1[i] + (c2 - d2) * k2[i] + (c3 - d3) * k3[i] + (c4 - d4) * k4[i] + (c5 - d5) * k5[i] + (c6 - d6) * k6[i]\n",
    "\n",
    "    #Step size control, the total sum of the errors is taken. This can be modified according to the needs\n",
    "    del_new = 0\n",
    "    del_cons = 0\n",
    "    for i in range(itr):\n",
    "        del_cons = del_cons + eps * yscal[i]\n",
    "        del_new = del_new + error[i]\n",
    "          \n",
    "    \n",
    "    \n",
    "    # if the error is zero we will proceed with the same h\n",
    "    safety = 0.99\n",
    "    epsilon = 10 ** (-13)\n",
    "    \n",
    "    if abs(del_new) >= epsilon: \n",
    "        if abs(del_new) > abs(del_cons):\n",
    "            h = safety * h * (abs(del_cons/del_new)) ** 0.25\n",
    "            #print(h, \"2\")\n",
    "            asrk5(eps, yscal, xn)\n",
    "                    \n",
    "        else:\n",
    "            #print(del_cons/del_new, \"factor\")\n",
    "            c= h\n",
    "            h = safety * h * (abs(del_cons/del_new)) ** 0.2\n",
    "            \n",
    "            for i in range(itr):\n",
    "                xn[i] = x_dummy[i]\n",
    "            #print(h, \"3\")\n",
    "            return c \n",
    "        \n",
    "    else: \n",
    "        for i in range(itr):\n",
    "                xn[i] = x_dummy[i]\n",
    "        \n",
    "        return x_int \n",
    "\n"
   ]
  },
  {
   "cell_type": "code",
   "execution_count": 5,
   "metadata": {
    "collapsed": true
   },
   "outputs": [],
   "source": [
    "\n",
    "#LOCATION AFTER \"t\" TIMESTEPS\n",
    "def location_after_iterations(itr, step, stress):\n",
    "    \n",
    "    strain = np.zeros(itr)\n",
    "    eps = 10 ** (-6)\n",
    "    yscal = [1 for x in range(len(s_dis))]\n",
    "    for j in range(itr):\n",
    "        #dummy = new_location(step, stress)\n",
    "        dummy = asrk5(eps, yscal, x_dis, stress)\n",
    "        annihilate(2)\n",
    "        g = len(s_dis)\n",
    "        yscal = [1 for x in range(len(s_dis))]\n",
    "        for k in range(g):\n",
    "            strain[j] = (strain[j] + s_dis[k] * (x_dis[k] - dummy[k]))\n",
    "        strain[j] = strain[j]/(grid_size ** 2)\n",
    "        \n",
    "    for i in range(itr):\n",
    "        if i != 0:\n",
    "            strain[i] = strain[i] + strain[i - 1] \n",
    "            \n",
    "    return strain\n"
   ]
  },
  {
   "cell_type": "code",
   "execution_count": 6,
   "metadata": {
    "collapsed": false
   },
   "outputs": [
    {
     "name": "stdout",
     "output_type": "stream",
     "text": [
      "20\n",
      "18\n"
     ]
    },
    {
     "data": {
      "image/png": "[encoded data removed]",
      "text/plain": [
       "<matplotlib.figure.Figure at 0x2439a45b0f0>"
      ]
     },
     "metadata": {},
     "output_type": "display_data"
    },
    {
     "data": {
      "text/plain": [
       "\"\\nfig,ax = plt.subplots()\\nax.set_xlim(( 0, grid_size))\\nax.set_ylim((0, grid_size))\\n\\nline1, = ax.plot([], [], 'bo')\\nline2, = ax.plot([], [], 'ro')\\n\\n# initialization function: plot the background of each frame\\ndef init():\\n    line1.set_data([], [])\\n    line2.set_data([], [])\\n    return line1, line2\\n\\n# animation function.  This is called sequentially\\ndef animate(i):\\n    location_after_iterations(1, 1, 1)\\n    x_pos = [[], []]\\n    y_pos = [[], []]\\n    for i in range(len(x_dis)):\\n        if(s_dis[i] == 1):\\n            x_pos[0].append(x_dis[i])        \\n            y_pos[0].append(y_dis[i])\\n        else:\\n            x_pos[1].append(x_dis[i])        \\n            y_pos[1].append(y_dis[i])\\n        \\n        line1.set_data(x_pos[0], y_pos[0])\\n        line2.set_data(x_pos[1], y_pos[1])\\n    return line1, line2\\n\\n# call the animator.  blit=True means only re-draw the parts that have changed.\\nanim = animation.FuncAnimation(fig, animate,init_func = init, frames=200, blit=True)\\nHTML(anim.to_html5_video())\\n\""
      ]
     },
     "execution_count": 6,
     "metadata": {},
     "output_type": "execute_result"
    }
   ],
   "source": [
    "h = 0.01\n",
    "print(len(s_dis))\n",
    "strain = location_after_iterations(150, 0.0001, 0)\n",
    "print(len(s_dis))\n",
    "plt.plot(strain)\n",
    "plt.show()\n",
    "\"\"\"\n",
    "fig,ax = plt.subplots()\n",
    "ax.set_xlim(( 0, grid_size))\n",
    "ax.set_ylim((0, grid_size))\n",
    "\n",
    "line1, = ax.plot([], [], 'bo')\n",
    "line2, = ax.plot([], [], 'ro')\n",
    "\n",
    "# initialization function: plot the background of each frame\n",
    "def init():\n",
    "    line1.set_data([], [])\n",
    "    line2.set_data([], [])\n",
    "    return line1, line2\n",
    "\n",
    "# animation function.  This is called sequentially\n",
    "def animate(i):\n",
    "    location_after_iterations(1, 1, 1)\n",
    "    x_pos = [[], []]\n",
    "    y_pos = [[], []]\n",
    "    for i in range(len(x_dis)):\n",
    "        if(s_dis[i] == 1):\n",
    "            x_pos[0].append(x_dis[i])        \n",
    "            y_pos[0].append(y_dis[i])\n",
    "        else:\n",
    "            x_pos[1].append(x_dis[i])        \n",
    "            y_pos[1].append(y_dis[i])\n",
    "        \n",
    "        line1.set_data(x_pos[0], y_pos[0])\n",
    "        line2.set_data(x_pos[1], y_pos[1])\n",
    "    return line1, line2\n",
    "\n",
    "# call the animator.  blit=True means only re-draw the parts that have changed.\n",
    "anim = animation.FuncAnimation(fig, animate,init_func = init, frames=200, blit=True)\n",
    "HTML(anim.to_html5_video())\n",
    "\"\"\""
   ]
  },
  {
   "cell_type": "markdown",
   "metadata": {
    "collapsed": false
   },
   "source": [
    "###### print_dis()\n",
    "plot_dis()"
   ]
  },
  {
   "cell_type": "markdown",
   "metadata": {
    "collapsed": false
   },
   "source": []
  },
  {
   "cell_type": "code",
   "execution_count": 7,
   "metadata": {
    "collapsed": false
   },
   "outputs": [
    {
     "name": "stdout",
     "output_type": "stream",
     "text": [
      "[[-0.00786702 -0.00831608 -0.00882904 ... -0.02005881 -0.0212774\n",
      "  -0.02245757]\n",
      " [-0.00611316 -0.00664079 -0.00723176 ... -0.02104242 -0.02228582\n",
      "  -0.02349183]\n",
      " [-0.00426385 -0.00487189 -0.00554201 ... -0.02201749 -0.02328303\n",
      "  -0.0245123 ]\n",
      " ...\n",
      " [ 0.00668572  0.00672792  0.00678594 ... -0.02473117 -0.01937926\n",
      "  -0.01533521]\n",
      " [ 0.00837629  0.00841514  0.0084691  ... -0.02253325 -0.01823645\n",
      "  -0.01521569]\n",
      " [ 0.01010129  0.01013534  0.01018388 ... -0.02080278 -0.01737145\n",
      "  -0.0151564 ]]\n"
     ]
    },
    {
     "name": "stderr",
     "output_type": "stream",
     "text": [
      "C:\\Users\\Micky\\Anaconda3\\lib\\site-packages\\numpy\\ma\\core.py:6442: MaskedArrayFutureWarning: In the future the default for ma.minimum.reduce will be axis=0, not the current None, to match np.minimum.reduce. Explicitly pass 0 or None to silence this warning.\n",
      "  return self.reduce(a)\n",
      "C:\\Users\\Micky\\Anaconda3\\lib\\site-packages\\numpy\\ma\\core.py:6442: MaskedArrayFutureWarning: In the future the default for ma.maximum.reduce will be axis=0, not the current None, to match np.maximum.reduce. Explicitly pass 0 or None to silence this warning.\n",
      "  return self.reduce(a)\n"
     ]
    },
    {
     "data": {
      "image/png": "[encoded data removed]",
      "text/plain": [
       "<matplotlib.figure.Figure at 0x243a2250a58>"
      ]
     },
     "metadata": {},
     "output_type": "display_data"
    }
   ],
   "source": [
    "#Contour plot\n",
    "number = 150\n",
    "xlist = np.linspace(0, grid_size/2, number)\n",
    "ylist = np.linspace(0, grid_size/2, number)\n",
    "X, Y = np.meshgrid(xlist, ylist)\n",
    "Z = (0 * X )\n",
    "for i in range(number):\n",
    "    for j in range(number):\n",
    "        for k in range(len(s_dis)):\n",
    "            Z[i][j] = Z[i][j] + stress_field(x_dis[k], y_dis[k], X[i][j], Y[i][j])\n",
    "\n",
    "plt.figure()\n",
    "cp = plt.contourf(X, Y, Z)\n",
    "plt.colorbar(cp)\n",
    "#plt.clabel(cp, inline=True, fontsize=10)\n",
    "print(Z)\n",
    "plt.title('Contour Plot')\n",
    "plt.xlabel('x')\n",
    "plt.ylabel('y')\n",
    "plt.show()"
   ]
  },
  {
   "cell_type": "code",
   "execution_count": null,
   "metadata": {
    "collapsed": false
   },
   "outputs": [],
   "source": []
  },
  {
   "cell_type": "code",
   "execution_count": null,
   "metadata": {
    "collapsed": true
   },
   "outputs": [],
   "source": []
  },
  {
   "cell_type": "code",
   "execution_count": null,
   "metadata": {
    "collapsed": false
   },
   "outputs": [],
   "source": []
  },
  {
   "cell_type": "code",
   "execution_count": null,
   "metadata": {
    "collapsed": false
   },
   "outputs": [],
   "source": []
  },
  {
   "cell_type": "code",
   "execution_count": null,
   "metadata": {
    "collapsed": true
   },
   "outputs": [],
   "source": []
  }
 ],
 "metadata": {
  "anaconda-cloud": {},
  "kernelspec": {
   "display_name": "Python [default]",
   "language": "python",
   "name": "python3"
  },
  "language_info": {
   "codemirror_mode": {
    "name": "ipython",
    "version": 3
   },
   "file_extension": ".py",
   "mimetype": "text/x-python",
   "name": "python",
   "nbconvert_exporter": "python",
   "pygments_lexer": "ipython3",
   "version": "3.5.2"
  }
 },
 "nbformat": 4,
 "nbformat_minor": 1
}
