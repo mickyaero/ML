{
 "cells": [
  {
   "cell_type": "code",
   "execution_count": 1,
   "metadata": {
    "collapsed": false
   },
   "outputs": [
    {
     "name": "stdout",
     "output_type": "stream",
     "text": [
      "[23. 43. 17.  2.  0. 42. 40. 48.  1. 16.] [14.  8.  1. 40. 30. 21. 24. 31. 44.  4.]\n"
     ]
    },
    {
     "data": {
      "text/plain": [
       "\"\\nON HOLD\\n#ANNIHILATION FUNCTION\\n#The dislocations will be annihilated if the distance between them is strictly less than the length of the burger's vector\\n\\ndef annhilate(b):\\n    for i in range(len(x_dis))\\na = [1, 2, 3, 4]\\ndel(a[1]\\n\""
      ]
     },
     "execution_count": 1,
     "metadata": {},
     "output_type": "execute_result"
    }
   ],
   "source": [
    "import matplotlib.pyplot as plt\n",
    "import numpy as np\n",
    "import copy as cp\n",
    "\n",
    "#PRINTING THE DISLOCATION POSITIONS\n",
    "def print_dis():\n",
    "    print(x_dis, y_dis)\n",
    "    \n",
    "\n",
    "#CAUTION, SOME FORMULAE GIVEN IN THE THESIS NEED TO BE RECHECKED - STRESS FIELD AND THE VELOCITY PROFILE\n",
    "#GRID GENERATION\n",
    "\n",
    "#Grid size in terms of Burger's vector, Burger's vector = 1unit in the x-direction\n",
    "#The grid is a sqaure\n",
    "grid_size = 50\n",
    "\n",
    "#Finding out the grid coordinates\n",
    "x_coord = np.linspace(0, grid_size - 1, grid_size)\n",
    "y_coord = x_coord\n",
    "#print(y_coord)\n",
    "\n",
    "#GENERATING THE DISLOCATIONS\n",
    "\n",
    "#Number of disclocations = num_dis\n",
    "num_dis = 10\n",
    "\n",
    "#Dislocations identity = (x, y ,s); where s can be +1 or -1 DEFINED GLOBALLY. THE COORDINATES OF THE DISLOCATIONS ARE UPDATED \n",
    "#GLOBALLY\n",
    "s = [1, -1]\n",
    "x_dis = np.random.choice(x_coord, num_dis)\n",
    "y_dis = np.random.choice(y_coord, num_dis)\n",
    "s_dis = np.random.choice(s, num_dis)\n",
    "print_dis()\n",
    "\n",
    "#PLOTTING FUNCTION\n",
    "def plot_dis():\n",
    "    #Plotting the dislocations\n",
    "    plt.axis([0, grid_size - 1, 0, grid_size - 1])\n",
    "    plt.xlabel('x(b)')\n",
    "    plt.ylabel('y(b)')\n",
    "    plt.title('Dislocations In The Box')\n",
    "    plt.grid(True)\n",
    "\n",
    "    for i in range(len(s_dis)):\n",
    "        if s_dis[i] == 1:\n",
    "            plt.plot(x_dis[i], y_dis[i], 'r^')\n",
    "        \n",
    "        else:\n",
    "            plt.plot(x_dis[i], y_dis[i], 'bv')\n",
    "    plt.show()\n",
    "\n",
    "\"\"\"\n",
    "ON HOLD\n",
    "#ANNIHILATION FUNCTION\n",
    "#The dislocations will be annihilated if the distance between them is strictly less than the length of the burger's vector\n",
    "\n",
    "def annhilate(b):\n",
    "    for i in range(len(x_dis))\n",
    "a = [1, 2, 3, 4]\n",
    "del(a[1]\n",
    "\"\"\"    \n"
   ]
  },
  {
   "cell_type": "code",
   "execution_count": 2,
   "metadata": {
    "collapsed": false
   },
   "outputs": [],
   "source": [
    "#STRESS FIELD AT A PARTICULAR POINT\n",
    "\n",
    "\n",
    "#The function evaluates the stress field at a point in the box. It takes the position of the dislocation(xd, yd) whose stress at a \n",
    "#point(x, y) has to be calculated. Burger's vector is kept as 1. Stress is measured in terms of meu/(2*pi*(1-v)). \n",
    "#Time is measured in terms of 2*pi*(1-neu)/(meu * mobi * burgers)\n",
    "def stress_field(x_d, y_d, x, y):\n",
    "    stress = 1 * np.sin(2 * np.pi * (x - x_d)/grid_size) * (np.cosh(2 * np.pi * (y - y_d)/grid_size) - np.cos(2 * np.pi * (x - x_d)/grid_size) - \n",
    "                                                           (2 * np.pi * (y - y_d)/grid_size) * np.sinh(2 * np.pi * (y - y_d)/grid_size))/((np.cosh(2 * np.pi * (y - y_d)/grid_size) - np.cos(2 * np.pi * (x - x_d)/grid_size)) ** 2 * grid_size)\n",
    "    \n",
    "    return stress\n",
    "    \n",
    "#CALCULATING THE "
   ]
  },
  {
   "cell_type": "code",
   "execution_count": 3,
   "metadata": {
    "collapsed": false
   },
   "outputs": [],
   "source": [
    "#CALCULATING THE VELOCITY OF EACH DISLOCATION\n",
    "\n",
    "#No climbing, just gliding =====> y is constant\n",
    "\n",
    "#The following function calculates the (sum stress + sigma_ext) * s * b^2 at dislocation(x, y), z = s_dis(x,y)\n",
    "def sum_stress(x, y, z, x_dummy, stress_external):\n",
    "    sum_inter = 0 \n",
    "    for i in range(len(x_dummy)):\n",
    "        if x == x_dummy[i] and y == y_dis[i]:\n",
    "            continue\n",
    "        else:\n",
    "            sum_inter = sum_inter + stress_field(x_dummy[i], y_dis[i], x, y) * s_dis[i]\n",
    "    sum_inter = sum_inter + stress_external\n",
    "    #Burgers vector value is 1\n",
    "    return(z * sum_inter)\n",
    "\n",
    "#NEW LOCATION OF THE DISLOCATION\n",
    "\n",
    "#Units of timestep are 2 * pi * (1 - neu)/(meu * mobi * Burger). Timestep thus I am taking is 1000\n",
    "\n",
    "def new_location(step, stress_ext):\n",
    "    x_int = cp.deepcopy(x_dis)\n",
    "    x_dummy = cp.deepcopy(x_dis)\n",
    "    \n",
    "    a = [0.0] * len(x_dummy)\n",
    "    for i in range(len(x_dummy)):\n",
    "        a[i] = sum_stress(x_dummy[i], y_dis[i], s_dis[i], x_dummy, stress_ext)\n",
    "            \n",
    "            \n",
    "    for i in range(len(x_dummy)):\n",
    "        x_dummy[i] = x_dis[i] + step/2.0 * np.array(a[i])\n",
    "        #print(x_dis[i],x_dis[i] + step/2.0 * a[i],x_dummy[i],'{:.16f}'.format(x_dummy[i] - x_dis[i]))\n",
    "    \n",
    "    b = cp.deepcopy(a)\n",
    "    for i in range(len(x_dummy)):\n",
    "        b[i] = sum_stress(x_dummy[i], y_dis[i], s_dis[i], x_dummy, stress_ext)\n",
    "        \n",
    "    for i in range(len(x_dummy)):\n",
    "        x_dummy[i] = x_dis[i] + step/2 * b[i]\n",
    "    \n",
    "    c = cp.deepcopy(b)\n",
    "    \n",
    "    for i in range(len(x_dummy)):\n",
    "        c[i] = sum_stress(x_dummy[i], y_dis[i], s_dis[i], x_dummy, stress_ext)\n",
    "        \n",
    "    for i in range(len(x_dummy)):\n",
    "        x_dummy[i] = x_dis[i] + step * c[i]\n",
    "        \n",
    "    d = cp.deepcopy(c)\n",
    "    \n",
    "    for i in range(len(x_dummy)):\n",
    "        d[i] = sum_stress(x_dummy[i], y_dis[i], s_dis[i], x_dummy, stress_ext)\n",
    "    \n",
    "    for i in range(len(x_dummy)):\n",
    "        x_dis[i] = (x_dis[i] + step/6 * (a[i] + 2 * b[i] + 2 * c[i] + d[i]))%grid_size\n",
    "       \n",
    "    return x_int\n",
    "     \n",
    "\n",
    "#LOCATION AFTER \"t\" TIMESTEPS\n",
    "def location_after_t(t, step, stress):\n",
    "    strain = [0] * t \n",
    "    for j in range(t):\n",
    "        dummy = new_location(step, stress)\n",
    "        for k in range(len(s_dis)):\n",
    "            strain[j] = strain[j] + s_dis[k] * (x_dis[k] - dummy[k])/(grid_size ** 2)\n",
    "    \n",
    "    for i in range(t):\n",
    "        if i != 0:\n",
    "            strain[i] = strain[i] + strain[i - 1] \n",
    "            \n",
    "    return strain\n",
    "\n"
   ]
  },
  {
   "cell_type": "code",
   "execution_count": 4,
   "metadata": {
    "collapsed": false
   },
   "outputs": [],
   "source": [
    "plt.hold(True)\n",
    "strain1 = location_after_t(500, 0.3, 0.0)\n",
    "strain2 = location_after_t(500, 0.5, 0.0)\n",
    "strain3 = location_after_t(500, 1, 0.0)\n",
    "strain4 = location_after_t(500, 1.2, 0.0)\n",
    "strain5 = location_after_t(500, 1.5, 0.0)\n",
    "strain6 = location_after_t(500, 1.7, 0.0)\n",
    "strain7 = location_after_t(500, 2, 0.0)\n"
   ]
  },
  {
   "cell_type": "markdown",
   "metadata": {
    "collapsed": false
   },
   "source": [
    "###### print_dis()\n",
    "plot_dis()"
   ]
  },
  {
   "cell_type": "markdown",
   "metadata": {
    "collapsed": false
   },
   "source": []
  },
  {
   "cell_type": "code",
   "execution_count": 18,
   "metadata": {
    "collapsed": false
   },
   "outputs": [
    {
     "data": {
      "text/plain": [
       "<matplotlib.legend.Legend at 0x1e47fb67eb8>"
      ]
     },
     "execution_count": 18,
     "metadata": {},
     "output_type": "execute_result"
    }
   ],
   "source": [
    "plt.plot(strain1, label='0.3')\n",
    "plt.plot(strain2, label='0.5')\n",
    "plt.plot(strain3, label='1')\n",
    "plt.plot(strain4, label='1.2')\n",
    "plt.plot(strain5, label='1.5')\n",
    "plt.plot(strain6, label='1.7')\n",
    "plt.plot(strain3, label='2')\n",
    "plt.legend()"
   ]
  },
  {
   "cell_type": "code",
   "execution_count": 19,
   "metadata": {
    "collapsed": false
   },
   "outputs": [
    {
     "data": {
      "image/png": "[encoded data removed]",
      "text/plain": [
       "<matplotlib.figure.Figure at 0x1e47eacda90>"
      ]
     },
     "metadata": {},
     "output_type": "display_data"
    }
   ],
   "source": [
    "plt.show()"
   ]
  },
  {
   "cell_type": "code",
   "execution_count": null,
   "metadata": {
    "collapsed": true
   },
   "outputs": [],
   "source": []
  }
 ],
 "metadata": {
  "anaconda-cloud": {},
  "kernelspec": {
   "display_name": "Python [default]",
   "language": "python",
   "name": "python3"
  },
  "language_info": {
   "codemirror_mode": {
    "name": "ipython",
    "version": 3
   },
   "file_extension": ".py",
   "mimetype": "text/x-python",
   "name": "python",
   "nbconvert_exporter": "python",
   "pygments_lexer": "ipython3",
   "version": "3.5.2"
  }
 },
 "nbformat": 4,
 "nbformat_minor": 1
}
