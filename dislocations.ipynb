{
 "cells": [
  {
   "cell_type": "code",
   "execution_count": 59,
   "metadata": {
    "collapsed": false
   },
   "outputs": [
    {
     "name": "stdout",
     "output_type": "stream",
     "text": [
      "[294. 357.  37.] [165. 213.  29.]\n"
     ]
    },
    {
     "data": {
      "image/png": "[encoded data removed]",
      "text/plain": [
       "<matplotlib.figure.Figure at 0x1576a9dda20>"
      ]
     },
     "metadata": {},
     "output_type": "display_data"
    }
   ],
   "source": [
    "import matplotlib.pyplot as plt\n",
    "import numpy as np\n",
    "\n",
    "#PRINTING THE DISLOCATION POSITIONS\n",
    "def print_dis():\n",
    "    print(x_dis, y_dis)\n",
    "    \n",
    "\n",
    "#CAUTION, SOME FORMULAE GIVEN IN THE THESIS NEED TO BE RECHECKED - STRESS FIELD AND THE VELOCITY PROFILE\n",
    "#GRID GENERATION\n",
    "\n",
    "#Grid size in terms of Burger's vector, Burger's vector = 1unit in the x-direction\n",
    "#The grid is a sqaure\n",
    "grid_size = 500\n",
    "\n",
    "#Finding out the grid coordinates\n",
    "x_coord = np.linspace(0, grid_size - 1, grid_size)\n",
    "y_coord = x_coord\n",
    "#print(y_coord)\n",
    "\n",
    "#GENERATING THE DISLOCATIONS\n",
    "\n",
    "#Number of disclocations = num_dis\n",
    "num_dis = 3\n",
    "\n",
    "#Dislocations identity = (x, y ,s); where s can be +1 or -1 DEFINED GLOBALLY. THE COORDINATES OF THE DISLOCATIONS ARE UPDATED \n",
    "#GLOBALLY\n",
    "s = [1, -1]\n",
    "x_dis = np.random.choice(x_coord, num_dis)\n",
    "y_dis = np.random.choice(y_coord, num_dis)\n",
    "s_dis = np.random.choice(s, num_dis)\n",
    "print_dis()\n",
    "\n",
    "#PLOTTING FUNCTION\n",
    "def plot_dis():\n",
    "    #Plotting the dislocations\n",
    "    plt.axis([0, grid_size - 1, 0, grid_size - 1])\n",
    "    plt.xlabel('x(b)')\n",
    "    plt.ylabel('y(b)')\n",
    "    plt.title('Dislocations In The Box')\n",
    "    plt.grid(True)\n",
    "\n",
    "    for i in range(len(s_dis)):\n",
    "        if s_dis[i] == 1:\n",
    "            plt.plot(x_dis[i], y_dis[i], 'g2')\n",
    "        \n",
    "        else:\n",
    "            plt.plot(x_dis[i], y_dis[i], 'b1')\n",
    "    plt.show()\n",
    "\n",
    "\"\"\"\n",
    "ON HOLD\n",
    "#ANNIHILATION FUNCTION\n",
    "#The dislocations will be annihilated if the distance between them is strictly less than the length of the burger's vector\n",
    "\n",
    "def annhilate(b):\n",
    "    for i in range(len(x_dis))\n",
    "a = [1, 2, 3, 4]\n",
    "del(a[1]\n",
    "\"\"\"    \n",
    "plot_dis()"
   ]
  },
  {
   "cell_type": "code",
   "execution_count": 60,
   "metadata": {
    "collapsed": false
   },
   "outputs": [],
   "source": [
    "#STRESS FIELD AT A PARTICULAR POINT\n",
    "\n",
    "\n",
    "#The function evaluates the stress field at a point in the box. It takes the position of the dislocation(xd, yd) whose stress at a \n",
    "#point(x, y) has to be calculated. Burger's vector is kept as 1. Stress is measured in terms of meu/(2*pi*(1-v)). \n",
    "#Time is measured in terms of 2*pi*(1-neu)/(meu * mobi * burgers)\n",
    "def stress_field(x_d, y_d, x, y):\n",
    "    stress = 1 * np.sin(2 * np.pi * (x - x_d)/grid_size) * (np.cosh(2 * np.pi * (y - y_d)/grid_size) - np.cos(2 * np.pi * (x - x_d)/grid_size) - \n",
    "                                                           (2 * np.pi * (y - y_d)/grid_size) * np.sinh(2 * np.pi * (y - y_d)/grid_size))/((np.cosh(2 * np.pi * (y - y_d)/grid_size) - np.cos(2 * np.pi * (x - x_d)/grid_size)) ** 2 * grid_size)\n",
    "    \n",
    "    return stress\n",
    "    \n",
    "#CALCULATING THE "
   ]
  },
  {
   "cell_type": "code",
   "execution_count": 61,
   "metadata": {
    "collapsed": false
   },
   "outputs": [],
   "source": [
    "#CALCULATING THE VELOCITY OF EACH DISLOCATION\n",
    "\n",
    "#No climbing, just gliding\n",
    "\n",
    "#The following function calculates the velocity of dislocation(x, y), z = s_dis(x,y)\n",
    "def vel_dis(x, y, z, stress_external):\n",
    "    sum_inter = 0 \n",
    "    for i in range(len(s_dis)):\n",
    "        if x == x_dis[i] and y == y_dis[i]:\n",
    "            continue\n",
    "        else:\n",
    "            sum_inter = sum_inter + stress_field(x_dis[i], y_dis[i], x, y) * s_dis[i]\n",
    "    sum_inter = sum_inter + stress_external\n",
    "    #Burgers vector value is 1\n",
    "    return(z * sum_inter)\n",
    "\n",
    "#NEW LOCATION OF THE DISLOCATION\n",
    "\n",
    "#Units of timestep are 2 * pi * (1 - neu)/(meu * mobi * Burger). Timestep thus I am taking is 1000\n",
    "def new_location():\n",
    "    for i in range(len(s_dis)):\n",
    "        #modulo introduces periodicity\n",
    "        x_dis[i] = (x_dis[i] + vel_dis(x_dis[i], y_dis[i], s_dis[i], 0) * 1000) % grid_size\n",
    "    return\n",
    "\n",
    "\n",
    "#LOCATION AFTER \"t\" timesteps\n",
    "def location_after_t(t):\n",
    "    for i in range(t):\n",
    "        new_location()\n",
    "    return\n",
    "\n"
   ]
  },
  {
   "cell_type": "code",
   "execution_count": 62,
   "metadata": {
    "collapsed": false
   },
   "outputs": [],
   "source": [
    "location_after_t(100)"
   ]
  },
  {
   "cell_type": "code",
   "execution_count": 63,
   "metadata": {
    "collapsed": false
   },
   "outputs": [
    {
     "name": "stdout",
     "output_type": "stream",
     "text": [
      "[227.56423586 466.52558467 493.82015646] [165. 213.  29.]\n"
     ]
    },
    {
     "data": {
      "image/png": "[encoded data removed]",
      "text/plain": [
       "<matplotlib.figure.Figure at 0x1576a8af6a0>"
      ]
     },
     "metadata": {},
     "output_type": "display_data"
    }
   ],
   "source": [
    "print_dis()\n",
    "plot_dis()"
   ]
  },
  {
   "cell_type": "code",
   "execution_count": null,
   "metadata": {
    "collapsed": true
   },
   "outputs": [],
   "source": []
  }
 ],
 "metadata": {
  "anaconda-cloud": {},
  "kernelspec": {
   "display_name": "Python [default]",
   "language": "python",
   "name": "python3"
  },
  "language_info": {
   "codemirror_mode": {
    "name": "ipython",
    "version": 3
   },
   "file_extension": ".py",
   "mimetype": "text/x-python",
   "name": "python",
   "nbconvert_exporter": "python",
   "pygments_lexer": "ipython3",
   "version": "3.5.2"
  }
 },
 "nbformat": 4,
 "nbformat_minor": 1
}
