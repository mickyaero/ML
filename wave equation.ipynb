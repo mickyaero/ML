{
 "cells": [
  {
   "cell_type": "code",
   "execution_count": 1,
   "metadata": {
    "collapsed": false
   },
   "outputs": [],
   "source": [
    "%matplotlib inline\n",
    "\n",
    "import matplotlib.pyplot as plt\n",
    "import numpy as np\n",
    "\n",
    "from matplotlib import animation, rc\n",
    "from IPython.display import HTML\n",
    "#h is a global variable\n",
    "\n",
    "def asrk5(eps, yscal, xn):\n",
    "    global h  \n",
    "    #print(h, \"1\")\n",
    "    #a constants\n",
    "    a2 = 0.2\n",
    "    a3 = 0.3\n",
    "    a4 = 0.6\n",
    "    a5 = 1\n",
    "    a6 = 0.875\n",
    "    \n",
    "    #print(h)\n",
    "    #b constants\n",
    "    b21 = 0.2 \n",
    "    b31 = 0.075\n",
    "    b32 = 0.225\n",
    "    b41 = 0.3\n",
    "    b42 = -0.9\n",
    "    b43 = 1.2\n",
    "    b51 = -11/54\n",
    "    b52 = 2.5\n",
    "    b53 = -70/27\n",
    "    b54 = 35/27\n",
    "    b61 = 1631/55296\n",
    "    b62 = 175/512\n",
    "    b63 = 575/13824\n",
    "    b64 = 44275/110592\n",
    "    b65 = 253/4096\n",
    "    \n",
    "    #c constants\n",
    "    c1 = 37/378\n",
    "    c2 = 0\n",
    "    c3 = 250/621\n",
    "    c4 = 125/594\n",
    "    c5 = 0\n",
    "    c6 = 512/1771\n",
    "    \n",
    "    #d constants\n",
    "    d1 = 2825/27648\n",
    "    d2 = 0\n",
    "    d3 = 18575/48384\n",
    "    d4 = 13525/55296\n",
    "    d5 = 277/14336\n",
    "    d6 = 0.25\n",
    "    \n",
    "    #proceeding with the starting h\n",
    "    #The function needs to be kept as a parameter for making this algorithm general\n",
    "    itr = len(xn)\n",
    "    x_int = np.copy(xn)\n",
    "    x_dummy = np.copy(xn)\n",
    "    \n",
    "    k1 = np.zeros(itr)\n",
    "    k2 = np.zeros(itr)\n",
    "    k3 = np.zeros(itr)\n",
    "    k4 = np.zeros(itr)\n",
    "    k5 = np.zeros(itr)\n",
    "    k6 = np.zeros(itr)\n",
    "    error = np.zeros(itr)\n",
    "    \n",
    "    w_2 = -1\n",
    "    k1[0] = h * (x_dummy[1])\n",
    "    k1[1] = h * (w_2 * x_dummy[0] )\n",
    "        \n",
    "    for i in range(itr):\n",
    "        x_dummy[i] = x_dummy[i] + b21 * k1[i]\n",
    "        \n",
    "    \n",
    "    k2[0] = h * (x_dummy[1])\n",
    "    k2[1] = h * (w_2 * x_dummy[0])\n",
    "        \n",
    "    \n",
    "    for i in range(itr):\n",
    "        x_dummy[i] = x_dummy[i] + b31 * k1[i] + b32 * k2[i]\n",
    "    \n",
    "    \n",
    "    k3[0] = h * (x_dummy[1])\n",
    "    k3[1] = h * (w_2 * x_dummy[0])\n",
    "    \n",
    "    for i in range(itr):\n",
    "        x_dummy[i] = x_dummy[i] + b41 * k1[i] + b42 * k2[i] + b43 * k3[i]\n",
    "        \n",
    "    k4[0] = h * (x_dummy[1])\n",
    "    k4[1] = h * (w_2 * x_dummy[0])\n",
    "    \n",
    "    for i in range(itr):\n",
    "        x_dummy[i] = x_dummy[i] + b51 * k1[i] + b52 * k2[i] + b53 * k3[i] + b54 * k4[i]\n",
    "    \n",
    "    \n",
    "    k5[0] = h * (x_dummy[1])\n",
    "    k5[1] = h * (w_2 * x_dummy[0])\n",
    "    \n",
    "    for i in range(itr):\n",
    "        x_dummy[i] = x_dummy[i] + b61 * k1[i] + b62 * k2[i] + b63 * k3[i] + b64 * k4[i] +b65 * k5[i]\n",
    "        \n",
    "    \n",
    "    k6[0] = h * (x_dummy[1])\n",
    "    k6[1] = h * (w_2 * x_dummy[0] )\n",
    "    \n",
    "    for i in range(itr):\n",
    "        x_dummy[i] = x_dummy[i] + c1 * k1[i] + c2 * k2[i] + c3 * k3[i] + c4 * k4[i] + c5 * k5[i] + c6 * k6[i]\n",
    "        #Calculating the error\n",
    "        error[i] = (c1 - d1) * k1[i] + (c2 - d2) * k2[i] + (c3 - d3) * k3[i] + (c4 - d4) * k4[i] + (c5 - d5) * k5[i] + (c6 - d6) * k6[i]\n",
    "\n",
    "    #Step size control, the total sum of the errors is taken. This can be modified according to the needs\n",
    "    del_new = 0\n",
    "    del_cons = 0\n",
    "    for i in range(itr):\n",
    "        del_cons = del_cons + eps * yscal[i]\n",
    "        del_new = del_new + error[i]\n",
    "          \n",
    "    \n",
    "    \n",
    "    # if the error is zero we will proceed with the same h\n",
    "    safety = 0.99\n",
    "    epsilon = 10 ** (-10)\n",
    "    \n",
    "    if abs(del_new) >= epsilon: \n",
    "        if abs(del_new) > abs(del_cons):\n",
    "            h = safety * h * (abs(del_cons/del_new)) ** 0.25\n",
    "            #print(h, \"2\")\n",
    "            asrk5(eps, yscal, xn)\n",
    "                    \n",
    "        else:\n",
    "            #print(del_cons/del_new, \"factor\")\n",
    "            c= h\n",
    "            h = safety * h * (abs(del_cons/del_new)) ** 0.2\n",
    "            \n",
    "            for i in range(itr):\n",
    "                xn[i] = x_dummy[i]\n",
    "            #print(h, \"3\")\n",
    "            return c \n",
    "        \n",
    "    else: \n",
    "        for i in range(itr):\n",
    "                xn[i] = x_dummy[i]\n",
    "        \n",
    "        return h "
   ]
  },
  {
   "cell_type": "code",
   "execution_count": 2,
   "metadata": {
    "collapsed": true
   },
   "outputs": [],
   "source": [
    "#Euler method\n",
    "def euler(xn):\n",
    "    xn[0] = xn[0] + h * xn[1] \n",
    "    xn[1] = xn[1] - 4 * h * xn[0]"
   ]
  },
  {
   "cell_type": "code",
   "execution_count": 3,
   "metadata": {
    "collapsed": true
   },
   "outputs": [],
   "source": [
    "#rk4 \n",
    "\n",
    "def rk4(xn):\n",
    "    global h\n",
    "    w_2 = -4\n",
    "    itr = len(xn)\n",
    "    x_int = np.copy(xn)\n",
    "    x_dummy = np.copy(xn)\n",
    "    \n",
    "    k1 = np.zeros(itr)\n",
    "    k2 = np.zeros(itr)\n",
    "    k3 = np.zeros(itr)\n",
    "    k4 = np.zeros(itr)\n",
    "    \n",
    "    k1[0] = (x_dummy[1])\n",
    "    k1[1] = (w_2 * x_dummy[0] ) \n",
    "    for i in range(itr):\n",
    "        x_dummy[i] = x_dummy[i] + h/2.0 * k1[i]\n",
    "        \n",
    "    k2[0] =  (x_dummy[1])\n",
    "    k2[1] =  (w_2 * x_dummy[0] ) \n",
    "    for i in range(itr):\n",
    "        x_dummy[i] = x_dummy[i] + h/2.0 * k2[i]\n",
    "        \n",
    "    k3[0] = (x_dummy[1])\n",
    "    k3[1] = (w_2 * x_dummy[0] ) \n",
    "    for i in range(itr):\n",
    "        x_dummy[i] = x_dummy[i] + h * k3[i]\n",
    "    \n",
    "    k4[0] = (x_dummy[1])\n",
    "    k4[1] = (w_2 * x_dummy[0] ) \n",
    "    \n",
    "    for i in range(itr):\n",
    "        x_dummy[i] = x_dummy[i] + h/6 * (k1[i] + 2 * k2[i] + 2 * k3[i] + k4[i])\n",
    "        xn[i] = x_dummy[i]\n",
    "        \n",
    "    return x_int"
   ]
  },
  {
   "cell_type": "code",
   "execution_count": 4,
   "metadata": {
    "collapsed": false,
    "scrolled": true
   },
   "outputs": [],
   "source": [
    "\n",
    "\n",
    "#Initial conditions for the equation :- x`` + w^2 * x = 0\n",
    "h = 0.003\n",
    "xn = np.zeros(2)\n",
    "xn[0] = 0\n",
    "xn[1] = 2\n",
    "nn_x = [xn[0]]\n",
    "nn_y = [xn[1]]\n",
    "\n",
    "eps = 10 ** (-6)\n",
    "y = [1, 1]\n",
    "\n",
    "    \n"
   ]
  },
  {
   "cell_type": "code",
   "execution_count": 5,
   "metadata": {
    "collapsed": false
   },
   "outputs": [
    {
     "data": {
      "text/plain": [
       "'\\nfig, ax = plt.subplots()\\n\\nax.set_xlim(( -50, 50))\\nax.set_ylim((-50, 50))\\n\\nline, = ax.plot([], [], lw = 1)\\n\\ndef init():\\n    line.set_data([], [])\\n    return (line,)\\n\\ndef animate(i):\\n    \\n    #asrk5(eps, y, xn)\\n    rk4(xn)  \\n    #euler(xn)\\n    nn_x.append(xn[0])\\n    nn_y.append(xn[1])\\n    line.set_data(nn_x, nn_y)\\n    return (line,)\\n\\nanim = animation.FuncAnimation(fig, animate, init_func=init, frames = 100, \\n                                 blit=True)\\n\\nHTML(anim.to_html5_video())\\n'"
      ]
     },
     "execution_count": 5,
     "metadata": {},
     "output_type": "execute_result"
    }
   ],
   "source": [
    "\"\"\"\n",
    "fig, ax = plt.subplots()\n",
    "\n",
    "ax.set_xlim(( -50, 50))\n",
    "ax.set_ylim((-50, 50))\n",
    "\n",
    "line, = ax.plot([], [], lw = 1)\n",
    "\n",
    "def init():\n",
    "    line.set_data([], [])\n",
    "    return (line,)\n",
    "\n",
    "def animate(i):\n",
    "    \n",
    "    #asrk5(eps, y, xn)\n",
    "    rk4(xn)  \n",
    "    #euler(xn)\n",
    "    nn_x.append(xn[0])\n",
    "    nn_y.append(xn[1])\n",
    "    line.set_data(nn_x, nn_y)\n",
    "    return (line,)\n",
    "\n",
    "anim = animation.FuncAnimation(fig, animate, init_func=init, frames = 100, \n",
    "                                 blit=True)\n",
    "\n",
    "HTML(anim.to_html5_video())\n",
    "\"\"\""
   ]
  },
  {
   "cell_type": "code",
   "execution_count": 6,
   "metadata": {
    "collapsed": false
   },
   "outputs": [],
   "source": [
    "#Euler method - Error v/s step size plot"
   ]
  },
  {
   "cell_type": "code",
   "execution_count": 7,
   "metadata": {
    "collapsed": false
   },
   "outputs": [
    {
     "data": {
      "image/png": "[encoded data removed]",
      "text/plain": [
       "<matplotlib.figure.Figure at 0x1edfa6dcac8>"
      ]
     },
     "metadata": {},
     "output_type": "display_data"
    }
   ],
   "source": [
    "\n",
    "step = np.linspace(0.01, 5, 1000)\n",
    "err = np.zeros(1000)\n",
    "for i in range(1000):\n",
    "    h = step[i]\n",
    "    t = 0\n",
    "    for j in range(50):\n",
    "        euler(xn)\n",
    "        t = t + i\n",
    "    #print(h) \n",
    "    err[i] = (xn[0] - np.sin(2 * t)) ** 2 + (xn[1] - 2 * np.cos(2 * t)) ** 2\n",
    "    xn[0] = 0\n",
    "    xn[1] = 2\n",
    "    \n",
    "plt.loglog(step, err)\n",
    "plt.show()\n",
    "\n"
   ]
  },
  {
   "cell_type": "code",
   "execution_count": 8,
   "metadata": {
    "collapsed": false
   },
   "outputs": [
    {
     "data": {
      "image/png": "[encoded data removed]",
      "text/plain": [
       "<matplotlib.figure.Figure at 0x1edfcb8a978>"
      ]
     },
     "metadata": {},
     "output_type": "display_data"
    }
   ],
   "source": [
    "#RK4\n",
    "step = np.linspace(0.01, 5, 1000)\n",
    "err = np.zeros(1000)\n",
    "for i in range(1000):\n",
    "    h = step[i]\n",
    "    t = 0\n",
    "    for j in range(50):\n",
    "        rk4(xn)\n",
    "        t = t + i\n",
    "    #print(h) \n",
    "    err[i] = (xn[0] - np.sin(2 * t)) ** 2 + (xn[1] - 2 * np.cos(2 * t)) ** 2\n",
    "    xn[0] = 0\n",
    "    xn[1] = 2\n",
    "    \n",
    "plt.loglog(step, err)\n",
    "plt.show()"
   ]
  },
  {
   "cell_type": "code",
   "execution_count": 9,
   "metadata": {
    "collapsed": false
   },
   "outputs": [
    {
     "data": {
      "image/png": "[encoded data removed]",
      "text/plain": [
       "<matplotlib.figure.Figure at 0x1edfcc17be0>"
      ]
     },
     "metadata": {},
     "output_type": "display_data"
    }
   ],
   "source": [
    "#ASRK5 Error vs Iteration Plot\n",
    "fgd = 100\n",
    "itr = np.linspace(1, fgd, fgd)\n",
    "err = np.zeros(fgd)\n",
    "g = 0\n",
    "h = 0.003\n",
    "for i in range(fgd):\n",
    "    g = asrk5(eps, y, xn) * (i + 1) + g\n",
    "    err[i] = (xn[0] - np.sin(2 * g)) ** 2 + (xn[1] - 2 * np.cos(2 * g)) ** 2\n",
    "\n",
    "plt.loglog(itr, err)\n",
    "plt.show()    "
   ]
  }
 ],
 "metadata": {
  "anaconda-cloud": {},
  "kernelspec": {
   "display_name": "Python [default]",
   "language": "python",
   "name": "python3"
  },
  "language_info": {
   "codemirror_mode": {
    "name": "ipython",
    "version": 3
   },
   "file_extension": ".py",
   "mimetype": "text/x-python",
   "name": "python",
   "nbconvert_exporter": "python",
   "pygments_lexer": "ipython3",
   "version": "3.5.2"
  }
 },
 "nbformat": 4,
 "nbformat_minor": 1
}
